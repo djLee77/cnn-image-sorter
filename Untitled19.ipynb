{
  "nbformat": 4,
  "nbformat_minor": 0,
  "metadata": {
    "colab": {
      "provenance": [],
      "authorship_tag": "ABX9TyPSw2kRuNrbwclef19jWilJ",
      "include_colab_link": true
    },
    "kernelspec": {
      "name": "python3",
      "display_name": "Python 3"
    },
    "language_info": {
      "name": "python"
    }
  },
  "cells": [
    {
      "cell_type": "markdown",
      "metadata": {
        "id": "view-in-github",
        "colab_type": "text"
      },
      "source": [
        "<a href=\"https://colab.research.google.com/github/djLee77/cnn-image-sorter/blob/main/Untitled19.ipynb\" target=\"_parent\"><img src=\"https://colab.research.google.com/assets/colab-badge.svg\" alt=\"Open In Colab\"/></a>"
      ]
    },
    {
      "cell_type": "code",
      "execution_count": 1,
      "metadata": {
        "id": "dJK-F65OUSar"
      },
      "outputs": [],
      "source": [
        "import torch\n",
        "import torchvision\n",
        "import torchvision.transforms as transforms\n",
        "import torch.nn as nn\n",
        "import torch.optim as optim\n"
      ]
    },
    {
      "cell_type": "code",
      "source": [
        "transform = transforms.Compose(\n",
        "    [transforms.ToTensor(),\n",
        "     transforms.Normalize((0.5, 0.5, 0.5), (0.5, 0.5, 0.5))])\n",
        "\n",
        "trainset = torchvision.datasets.CIFAR10(root='./data', train=True,\n",
        "                                        download=True, transform=transform)\n",
        "trainloader = torch.utils.data.DataLoader(trainset, batch_size=4,\n",
        "                                          shuffle=True, num_workers=2)\n",
        "\n",
        "testset = torchvision.datasets.CIFAR10(root='./data', train=False,\n",
        "                                       download=True, transform=transform)\n",
        "testloader = torch.utils.data.DataLoader(testset, batch_size=4,\n",
        "                                         shuffle=False, num_workers=2)\n",
        "\n",
        "classes = ('plane', 'car', 'bird', 'cat',\n",
        "           'deer', 'dog', 'frog', 'horse', 'ship', 'truck')\n"
      ],
      "metadata": {
        "colab": {
          "base_uri": "https://localhost:8080/"
        },
        "id": "Gd-TSW4EUTno",
        "outputId": "3f634b0f-7591-49aa-e9c3-edf7c7f29797"
      },
      "execution_count": 2,
      "outputs": [
        {
          "output_type": "stream",
          "name": "stdout",
          "text": [
            "Downloading https://www.cs.toronto.edu/~kriz/cifar-10-python.tar.gz to ./data/cifar-10-python.tar.gz\n"
          ]
        },
        {
          "output_type": "stream",
          "name": "stderr",
          "text": [
            "100%|██████████| 170M/170M [00:08<00:00, 19.8MB/s]\n"
          ]
        },
        {
          "output_type": "stream",
          "name": "stdout",
          "text": [
            "Extracting ./data/cifar-10-python.tar.gz to ./data\n",
            "Files already downloaded and verified\n"
          ]
        }
      ]
    },
    {
      "cell_type": "code",
      "source": [
        "class Net(nn.Module):\n",
        "    def __init__(self):\n",
        "        super(Net, self).__init__()\n",
        "        self.conv1 = nn.Conv2d(3, 6, 5)\n",
        "        self.pool = nn.MaxPool2d(2, 2)\n",
        "        self.conv2 = nn.Conv2d(6, 16, 5)\n",
        "        self.fc1 = nn.Linear(16 * 5 * 5, 120)\n",
        "        self.fc2 = nn.Linear(120, 84)\n",
        "        self.fc3 = nn.Linear(84, 10)\n",
        "\n",
        "    def forward(self, x):\n",
        "        x = self.pool(nn.functional.relu(self.conv1(x)))\n",
        "        x = self.pool(nn.functional.relu(self.conv2(x)))\n",
        "        x = x.view(-1, 16 * 5 * 5)\n",
        "        x = nn.functional.relu(self.fc1(x))\n",
        "        x = nn.functional.relu(self.fc2(x))\n",
        "        x = self.fc3(x)\n",
        "        return x\n",
        "\n",
        "net = Net()\n"
      ],
      "metadata": {
        "id": "pQpwD1UEUTvY"
      },
      "execution_count": 3,
      "outputs": []
    },
    {
      "cell_type": "code",
      "source": [
        "criterion = nn.CrossEntropyLoss()\n",
        "optimizer = optim.SGD(net.parameters(), lr=0.001, momentum=0.9)\n",
        "\n",
        "for epoch in range(10):  # loop over the dataset multiple times\n",
        "    running_loss = 0.0\n",
        "    for i, data in enumerate(trainloader, 0):\n",
        "        inputs, labels = data\n",
        "        optimizer.zero_grad()\n",
        "        outputs = net(inputs)\n",
        "        loss = criterion(outputs, labels)\n",
        "        loss.backward()\n",
        "        optimizer.step()\n",
        "        running_loss += loss.item()\n",
        "        if i % 2000 == 1999:    # print every 2000 mini-batches\n",
        "            print(f'[{epoch + 1}, {i + 1:5d}] loss: {running_loss / 2000:.3f}')\n",
        "            running_loss = 0.0\n",
        "\n",
        "print('Finished Training')\n"
      ],
      "metadata": {
        "colab": {
          "base_uri": "https://localhost:8080/"
        },
        "id": "h9rBWzvDUT3v",
        "outputId": "578b56b1-49bf-48c9-ec49-96651c567b0b"
      },
      "execution_count": 5,
      "outputs": [
        {
          "output_type": "stream",
          "name": "stdout",
          "text": [
            "[1,  2000] loss: 0.745\n",
            "[1,  4000] loss: 0.765\n",
            "[1,  6000] loss: 0.812\n",
            "[1,  8000] loss: 0.808\n",
            "[1, 10000] loss: 0.814\n",
            "[1, 12000] loss: 0.840\n",
            "[2,  2000] loss: 0.717\n",
            "[2,  4000] loss: 0.761\n",
            "[2,  6000] loss: 0.760\n",
            "[2,  8000] loss: 0.782\n",
            "[2, 10000] loss: 0.793\n",
            "[2, 12000] loss: 0.827\n",
            "[3,  2000] loss: 0.688\n",
            "[3,  4000] loss: 0.754\n",
            "[3,  6000] loss: 0.741\n",
            "[3,  8000] loss: 0.761\n",
            "[3, 10000] loss: 0.778\n",
            "[3, 12000] loss: 0.814\n",
            "[4,  2000] loss: 0.676\n",
            "[4,  4000] loss: 0.730\n",
            "[4,  6000] loss: 0.727\n",
            "[4,  8000] loss: 0.760\n",
            "[4, 10000] loss: 0.754\n",
            "[4, 12000] loss: 0.776\n",
            "[5,  2000] loss: 0.660\n",
            "[5,  4000] loss: 0.697\n",
            "[5,  6000] loss: 0.719\n",
            "[5,  8000] loss: 0.751\n",
            "[5, 10000] loss: 0.730\n",
            "[5, 12000] loss: 0.734\n",
            "[6,  2000] loss: 0.630\n",
            "[6,  4000] loss: 0.695\n",
            "[6,  6000] loss: 0.695\n",
            "[6,  8000] loss: 0.724\n",
            "[6, 10000] loss: 0.721\n",
            "[6, 12000] loss: 0.734\n",
            "[7,  2000] loss: 0.620\n",
            "[7,  4000] loss: 0.646\n",
            "[7,  6000] loss: 0.688\n",
            "[7,  8000] loss: 0.702\n",
            "[7, 10000] loss: 0.731\n",
            "[7, 12000] loss: 0.740\n",
            "[8,  2000] loss: 0.600\n",
            "[8,  4000] loss: 0.685\n",
            "[8,  6000] loss: 0.677\n",
            "[8,  8000] loss: 0.712\n",
            "[8, 10000] loss: 0.710\n",
            "[8, 12000] loss: 0.694\n",
            "[9,  2000] loss: 0.587\n",
            "[9,  4000] loss: 0.645\n",
            "[9,  6000] loss: 0.640\n",
            "[9,  8000] loss: 0.677\n",
            "[9, 10000] loss: 0.707\n",
            "[9, 12000] loss: 0.703\n",
            "[10,  2000] loss: 0.571\n",
            "[10,  4000] loss: 0.619\n",
            "[10,  6000] loss: 0.644\n",
            "[10,  8000] loss: 0.659\n",
            "[10, 10000] loss: 0.731\n",
            "[10, 12000] loss: 0.720\n",
            "Finished Training\n"
          ]
        }
      ]
    },
    {
      "cell_type": "code",
      "source": [
        "correct = 0\n",
        "total = 0\n",
        "with torch.no_grad():\n",
        "    for data in testloader:\n",
        "        images, labels = data\n",
        "        outputs = net(images)\n",
        "        _, predicted = torch.max(outputs.data, 1)\n",
        "        total += labels.size(0)\n",
        "        correct += (predicted == labels).sum().item()\n",
        "\n",
        "print('Accuracy of the network on the 10000 test images: %d %%' % (\n",
        "    100 * correct / total))\n"
      ],
      "metadata": {
        "colab": {
          "base_uri": "https://localhost:8080/"
        },
        "id": "LiTUqMeaUjX_",
        "outputId": "d03f538d-7aac-476c-e1d9-e2d01297628b"
      },
      "execution_count": 6,
      "outputs": [
        {
          "output_type": "stream",
          "name": "stdout",
          "text": [
            "Accuracy of the network on the 10000 test images: 62 %\n"
          ]
        }
      ]
    }
  ]
}